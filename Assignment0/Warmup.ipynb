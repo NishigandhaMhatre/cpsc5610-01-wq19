{
 "cells": [
  {
   "cell_type": "markdown",
   "metadata": {},
   "source": [
    "### Welcome to Your First Notebook! ####\n",
    "\n",
    "This short exercise will have a few Python programming questions that will cover\n",
    "  * Working with strings and lists\n",
    "  * Working with functions and numeric operations\n",
    "  * Writing and using a class and its instances\n",
    "  * Reading a file into a Data Frame and doing a statistical calculation"
   ]
  },
  {
   "cell_type": "markdown",
   "metadata": {},
   "source": [
    "\n",
    "Each of these exercises will have a Markdown cell describing the problem.  You will insert a Code cell under the question and put your code there.  You will run your code to verify its correctness, but when you hand in your solution in this notebook, please clear all output.  (Cell -> All Output -> Clear in the menu above.)"
   ]
  },
  {
   "cell_type": "markdown",
   "metadata": {},
   "source": [
    "------------------------------------"
   ]
  },
  {
   "cell_type": "markdown",
   "metadata": {},
   "source": [
    "\\# 1  **String splitting.**  Write a function **printWords(aString)** that takes a string as input and writes each word to the console, one word per line.  A word is a sequence of one or more non-whitespace characters.  Words are separated by one or more whitespace characters."
   ]
  },
  {
   "cell_type": "code",
   "execution_count": 114,
   "metadata": {},
   "outputs": [],
   "source": [
    "## DELETE THIS COMMENT AND WRITE YOUR SOLUTION IN THIS CELL"
   ]
  },
  {
   "cell_type": "markdown",
   "metadata": {},
   "source": [
    "\\# 2 **Primes.**  Write a function **primes(low, high)** that returns a list of the prime numbers between low and high, inclusive.  If high < low, the function should return the empty list."
   ]
  },
  {
   "cell_type": "code",
   "execution_count": 129,
   "metadata": {},
   "outputs": [],
   "source": [
    "## DELETE THIS COMMENT AND WRITE YOUR SOLUTION IN THIS CELL"
   ]
  },
  {
   "cell_type": "markdown",
   "metadata": {},
   "source": [
    "\\# 3 **Temperature Conversion.**  Write a class Temperature whose constructor accepts two parameters, a real number and a string that is either \"F\" (Farenheit) or \"C\" (Celsius).   It has the following methods   \n",
    "  1.  **degrees** and **units** which are getters for the two instance variables\n",
    "  1.  **toFarenheit** and **toCelsius** that returns the instance's degrees in the specified units\n",
    "  1.  Overload the operator **__add__(aTemperature)** which affects how expressions like **t1 + t2** behave when **t1** and **t2** are both **Temperatures**.  This operator should return a new instance of **Temperature** adding the receiver and the argument.  The units of the returned **Temperature** should be the same as that of the receiver. \n",
    "  1. Overload the operator **__str__** which is the equivalent of Java **toString** and affects the way instances display themselves. Instances of Temperature should print like this:  **{32 degrees F}**\n",
    "  \n",
    "Your code should detect the following errors and raise an exception in both cases\n",
    "  1. The **units** argument to the constructor is not \"C\" or \"F\" (case sensitive)\n",
    "  2. An expession is of the form *(x + y)* where <b>x</b> is an instance of **Temperature** but <b>y</b> is not.  That is, it is illegal to add a **Temperature** to a non-**Temperature**\n",
    "  "
   ]
  },
  {
   "cell_type": "code",
   "execution_count": 21,
   "metadata": {},
   "outputs": [],
   "source": [
    "## DELETE THIS COMMENT AND WRITE YOUR SOLUTION IN THIS CELL \n"
   ]
  },
  {
   "cell_type": "markdown",
   "metadata": {},
   "source": [
    "Here is some example input and output:\n",
    "<pre>\n",
    "t1 = Temperature(32, \"F\")\n",
    "print(t1)\n",
    "print(t1.degrees())\n",
    "print(t1.units())\n",
    "print(t1.toFarenheit())\n",
    "print(t1.toCelsius())\n",
    "t2 = Temperature(100, \"C\")\n",
    "print(t2)\n",
    "print(t2.degrees())\n",
    "print(t2.units())\n",
    "print(t2.toFarenheit())\n",
    "print(t2.toCelsius())\n",
    "t3 = t2 + Temperature(212, \"F\")\n",
    "print(t3)\n",
    "</pre>\n",
    "<pre>\n",
    "{32 degrees F}\n",
    "32\n",
    "F\n",
    "32\n",
    "0.0\n",
    "{100 degrees C}\n",
    "100\n",
    "C\n",
    "212.0\n",
    "100\n",
    "{200.0 degrees C}\n",
    "</pre>\n"
   ]
  },
  {
   "cell_type": "markdown",
   "metadata": {},
   "source": [
    "--------------------------------------"
   ]
  },
  {
   "cell_type": "markdown",
   "metadata": {},
   "source": [
    "\\# 4 The file **predictions.txt** has two columns per row -- one is an observed value, the other is a predicted value.  Call these values $o_i$ and $p_i$ for the $i^{th}$ row.  The mean-square error (MSE) is defined as  $$ \\frac{1}{n} \\sum_{1}^n(o_i - p_i)^2 $$ where $n$ is the number of rows in the data set.  Write code that reads the contents of **predictions.txt** and prints the mean-square error.  You should\n",
    "1.  Read the file **predictions.txt** into a **pandas DataFrame**\n",
    "1.  Discover how to access the two columns **Observed** and **Predicted**\n",
    "1.  Discover how to get the number of observations (rows) in the data frame\n",
    "1.  Use that information to calculate MSE according to the formula"
   ]
  },
  {
   "cell_type": "markdown",
   "metadata": {},
   "source": [
    "**Delete this** code to generate the file"
   ]
  },
  {
   "cell_type": "code",
   "execution_count": 35,
   "metadata": {},
   "outputs": [],
   "source": [
    "## DELETE THIS COMMENT AND WRITE YOUR SOLUTION IN THIS CELL"
   ]
  }
 ],
 "metadata": {
  "kernelspec": {
   "display_name": "Python 3",
   "language": "python",
   "name": "python3"
  },
  "language_info": {
   "codemirror_mode": {
    "name": "ipython",
    "version": 3
   },
   "file_extension": ".py",
   "mimetype": "text/x-python",
   "name": "python",
   "nbconvert_exporter": "python",
   "pygments_lexer": "ipython3",
   "version": "3.7.0"
  }
 },
 "nbformat": 4,
 "nbformat_minor": 2
}
