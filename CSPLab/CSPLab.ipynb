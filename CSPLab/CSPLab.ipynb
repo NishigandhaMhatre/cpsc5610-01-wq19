{
 "cells": [
  {
   "cell_type": "markdown",
   "metadata": {},
   "source": [
    "#### This is a header block you will fill in prior to submitting your workbook ####\n",
    "\n",
    "* Names of the people in the group\n",
    "\n",
    "* What questions do you have fully or partially working\n",
    "\n",
    "* For what questions would you like to have your code discussed by the class\n",
    "\n",
    "\n",
    "**Prior to comitting your workbook, please change its name to the last name and first name of somebody in the group, so there will be no conflicts as multiple groups submit workbooks**\n",
    "\n",
    "--------------------------------------------------"
   ]
  },
  {
   "cell_type": "markdown",
   "metadata": {},
   "source": [
    "###  CSP Lab Problems ###\n",
    "\n",
    "Here are three CSP problems (probably) ordered from easiest to hardest.\n",
    "\n",
    "Also there is a short working example at the bottom just to get you started with the library.\n",
    "\n",
    "-------------------------------------------\n"
   ]
  },
  {
   "cell_type": "markdown",
   "metadata": {},
   "source": [
    "**#1  Express the map-coloring problem from R&N Figure 6.1 as a CSP, and solve it.**\n",
    "\n",
    "Make the possible colors \"B\", \"G\", \"R\", \"Y\"\n",
    "\n",
    "How many solutions are there using \n",
    "* two colors\n",
    "* three colors\n",
    "* four colors"
   ]
  },
  {
   "cell_type": "markdown",
   "metadata": {},
   "source": [
    "---------------------------------------"
   ]
  },
  {
   "cell_type": "markdown",
   "metadata": {},
   "source": [
    "**#2 Solve the classic cryptarithmetic problem**\n",
    "\n",
    "<pre>\n",
    "    S E N D\n",
    " +  M O R E\n",
    " -------------\n",
    "  M O N E Y\n",
    "</pre>\n",
    "\n",
    "where each letter is assigned a digit.  There can be no leading zeros, \n",
    "so S and M cannot be 0\n",
    "\n",
    "R&N Figure 6.2 should be helpful.\n",
    "\n",
    "Notice in Figure 6.2 there is an \"all different\" constraint on the values of the letters.\n",
    "\n",
    "Implement that \"all different\" constraint as it appears in the Figure.  (Hint:  don't assume Constraint.AllDifferentConstraint will do what you want.)\n",
    "\n",
    "What does that additional constraint do to the number of solutions?"
   ]
  },
  {
   "cell_type": "markdown",
   "metadata": {},
   "source": [
    "----------------------------------------------"
   ]
  },
  {
   "cell_type": "markdown",
   "metadata": {},
   "source": [
    "**#3 Solve the \"slightly bigger\" job shop example from the Moore tutorial, slide 44**\n",
    "\n",
    "Short summary\n",
    "\n",
    "1. There are four jobs 1..4;  each job has between two and three subtasks\n",
    "1. For each jobs, the subtasks must be done in sequence\n",
    "1. Each subtask requires a resource,  and two subtasks that use the same resource cannot be scheduled at the same time\n",
    "1. All subtasks take three time units to complete\n",
    "1. All subtasks are ready for execution at time 0, and must complete at or before time 15\n",
    "\n",
    "From the jobs/subtasks/resource uses on the diagram, assign a start time to each subtask that satisfies all the constraints above.\n",
    "\n",
    "\n"
   ]
  },
  {
   "cell_type": "markdown",
   "metadata": {},
   "source": [
    "----------------------------------------------"
   ]
  },
  {
   "cell_type": "code",
   "execution_count": 2,
   "metadata": {},
   "outputs": [
    {
     "data": {
      "text/plain": [
       "[{'A': 8, 'B': 2}, {'A': 2, 'B': 8}]"
      ]
     },
     "execution_count": 2,
     "metadata": {},
     "output_type": "execute_result"
    }
   ],
   "source": [
    "##  Simple example.  Two variables, A and B.  \n",
    "## A and B must \n",
    "##   be integers >= 0\n",
    "##   have different values\n",
    "##   multiply to 16\n",
    "\n",
    "from constraint import *\n",
    "problem = Problem()\n",
    "problem.addVariables([\"A\", \"B\"], range(0,16))\n",
    "problem.addConstraint(lambda x, y: x * y == 16)\n",
    "problem.addConstraint(AllDifferentConstraint())\n",
    "\n",
    "problem.getSolutions()"
   ]
  },
  {
   "cell_type": "code",
   "execution_count": null,
   "metadata": {},
   "outputs": [],
   "source": []
  }
 ],
 "metadata": {
  "kernelspec": {
   "display_name": "Python 3",
   "language": "python",
   "name": "python3"
  },
  "language_info": {
   "codemirror_mode": {
    "name": "ipython",
    "version": 3
   },
   "file_extension": ".py",
   "mimetype": "text/x-python",
   "name": "python",
   "nbconvert_exporter": "python",
   "pygments_lexer": "ipython3",
   "version": "3.7.0"
  }
 },
 "nbformat": 4,
 "nbformat_minor": 2
}
